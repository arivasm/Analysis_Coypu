{
 "cells": [
  {
   "cell_type": "code",
   "execution_count": 1,
   "id": "d1935301",
   "metadata": {},
   "outputs": [
    {
     "name": "stdout",
     "output_type": "stream",
     "text": [
      "Looking in indexes: https://pypi.org/simple, https://pypi.ngc.nvidia.com\n",
      "Requirement already satisfied: rdflib in c:\\users\\rivasa\\anaconda3\\lib\\site-packages (6.2.0)\n",
      "Requirement already satisfied: pyparsing in c:\\users\\rivasa\\anaconda3\\lib\\site-packages (from rdflib) (3.0.9)\n",
      "Requirement already satisfied: isodate in c:\\users\\rivasa\\anaconda3\\lib\\site-packages (from rdflib) (0.6.0)\n",
      "Requirement already satisfied: setuptools in c:\\users\\rivasa\\anaconda3\\lib\\site-packages (from rdflib) (58.0.4)\n",
      "Requirement already satisfied: six in c:\\users\\rivasa\\anaconda3\\lib\\site-packages (from isodate->rdflib) (1.16.0)\n"
     ]
    },
    {
     "name": "stderr",
     "output_type": "stream",
     "text": [
      "WARNING: Ignoring invalid distribution -illow (c:\\users\\rivasa\\anaconda3\\lib\\site-packages)\n",
      "WARNING: Ignoring invalid distribution -illow (c:\\users\\rivasa\\anaconda3\\lib\\site-packages)\n",
      "WARNING: Ignoring invalid distribution -illow (c:\\users\\rivasa\\anaconda3\\lib\\site-packages)\n",
      "WARNING: Ignoring invalid distribution -illow (c:\\users\\rivasa\\anaconda3\\lib\\site-packages)\n",
      "WARNING: Ignoring invalid distribution -illow (c:\\users\\rivasa\\anaconda3\\lib\\site-packages)\n",
      "WARNING: Ignoring invalid distribution -illow (c:\\users\\rivasa\\anaconda3\\lib\\site-packages)\n",
      "WARNING: You are using pip version 21.3.1; however, version 22.3.1 is available.\n",
      "You should consider upgrading via the 'C:\\Users\\rivasa\\Anaconda3\\python.exe -m pip install --upgrade pip' command.\n"
     ]
    }
   ],
   "source": [
    "!pip install rdflib"
   ]
  },
  {
   "cell_type": "code",
   "execution_count": 1,
   "id": "f0a64160",
   "metadata": {},
   "outputs": [],
   "source": [
    "import pandas as pd\n",
    "import numpy as np\n",
    "\n",
    "\n",
    "import json\n",
    "\n",
    "\n",
    "from ipycytoscape import *\n",
    "import ipywidgets as widgets\n",
    "import bqplot\n",
    "from bqplot import pyplot as bqplt\n",
    "from bqplot import Tooltip"
   ]
  },
  {
   "cell_type": "code",
   "execution_count": 2,
   "id": "1d53bccd",
   "metadata": {},
   "outputs": [
    {
     "ename": "AttributeError",
     "evalue": "'Graph' object has no attribute 'parse'",
     "output_type": "error",
     "traceback": [
      "\u001b[1;31m---------------------------------------------------------------------------\u001b[0m",
      "\u001b[1;31mAttributeError\u001b[0m                            Traceback (most recent call last)",
      "\u001b[1;32m~\\AppData\\Local\\Temp/ipykernel_15316/3937833461.py\u001b[0m in \u001b[0;36m<module>\u001b[1;34m\u001b[0m\n\u001b[0;32m      2\u001b[0m \u001b[1;33m\u001b[0m\u001b[0m\n\u001b[0;32m      3\u001b[0m \u001b[0mg1\u001b[0m \u001b[1;33m=\u001b[0m \u001b[0mGraph\u001b[0m\u001b[1;33m(\u001b[0m\u001b[1;33m)\u001b[0m\u001b[1;33m\u001b[0m\u001b[1;33m\u001b[0m\u001b[0m\n\u001b[1;32m----> 4\u001b[1;33m \u001b[0mg1\u001b[0m\u001b[1;33m.\u001b[0m\u001b[0mparse\u001b[0m\u001b[1;33m(\u001b[0m\u001b[0mpath\u001b[0m \u001b[1;33m+\u001b[0m \u001b[1;34m\"G1.ttl\"\u001b[0m\u001b[1;33m,\u001b[0m \u001b[0mformat\u001b[0m\u001b[1;33m=\u001b[0m\u001b[1;34m\"ttl\"\u001b[0m\u001b[1;33m)\u001b[0m\u001b[1;33m\u001b[0m\u001b[1;33m\u001b[0m\u001b[0m\n\u001b[0m",
      "\u001b[1;31mAttributeError\u001b[0m: 'Graph' object has no attribute 'parse'"
     ]
    }
   ],
   "source": [
    "path = 'semep-solver-master/graph_country_category-15h-49m-46s-Clusters/'\n",
    "\n",
    "pd.loa(path + \"cluster-9.txt\", format=\"ttl\")"
   ]
  },
  {
   "cell_type": "code",
   "execution_count": 14,
   "id": "b0ca3468",
   "metadata": {},
   "outputs": [
    {
     "data": {
      "text/plain": [
       "<Graph identifier=N7bebee8d772643168106ee00c3071834 (<class 'rdflib.graph.Graph'>)>"
      ]
     },
     "execution_count": 14,
     "metadata": {},
     "output_type": "execute_result"
    }
   ],
   "source": [
    "from rdflib import Graph, URIRef, Literal\n",
    "from rdflib.namespace import RDFS\n",
    "from rdflib.namespace import DC, DCTERMS, DOAP, FOAF, SKOS, OWL, RDF, RDFS, VOID, XMLNS, XSD\n",
    "\n",
    "g = Graph()\n",
    "semweb = URIRef('http://dbpedia.org/resource/Semantic_Web')\n",
    "type = g.value(semweb, RDFS.label)\n",
    "\n",
    "g.add((\n",
    "    URIRef(\"http://example.com/person/nick\"),\n",
    "    FOAF.givenName,\n",
    "    Literal(\"Nick\", datatype=XSD.string)\n",
    "))"
   ]
  },
  {
   "cell_type": "code",
   "execution_count": 3,
   "id": "c055fc86",
   "metadata": {},
   "outputs": [],
   "source": [
    "def sparql_results_to_df(results: SPARQLResult) -> pd.DataFrame:\n",
    "    \"\"\"\n",
    "    Export results from an rdflib SPARQL query into a `pandas.DataFrame`,\n",
    "    using Python types. See https://github.com/RDFLib/rdflib/issues/1179.\n",
    "    \"\"\"\n",
    "    return pd.DataFrame(\n",
    "        data=([None if x is None else x.toPython() for x in row] for row in results),\n",
    "        columns=[str(x) for x in results.vars],\n",
    "    )\n",
    "\n",
    "def get_triples():\n",
    "    query = \"\"\"\n",
    "    select distinct ?s ?p ?o\n",
    "    where {\n",
    "        #?treatment rdf:type ex:Treatment .\n",
    "        ?s ?p ?o .\n",
    "        }\n",
    "        \"\"\"\n",
    "    return query\n",
    "\n",
    "def get_type():\n",
    "    query = \"\"\"\n",
    "    PREFIX rdf: <http://www.w3.org/1999/02/22-rdf-syntax-ns#>\n",
    "    PREFIX ex: <http://example/#> \n",
    "\n",
    "    select distinct ?entity ?type\n",
    "    where {\n",
    "        ?entity rdf:type ?type .\n",
    "        }\n",
    "        \"\"\"\n",
    "    return query\n",
    "\n",
    "\n",
    "def create_json_to_cytoscape(rdf_graph, entity_type):\n",
    "    graph_json = dict()\n",
    "    graph_json['nodes'] = []\n",
    "    graph_json['edges'] = []\n",
    "    drug_id = dict()\n",
    "    id_x = 0\n",
    "    for i in range(rdf_graph.shape[0]):\n",
    "        subj = rdf_graph.iloc[i]['s']\n",
    "        obj = rdf_graph.iloc[i]['o']\n",
    "        prop = rdf_graph.iloc[i]['p']\n",
    "        edge = dict()\n",
    "        edge['data'] = dict()\n",
    "\n",
    "        if subj in drug_id.keys():\n",
    "            edge['data']['id'] = id_x\n",
    "            edge['data']['source'] = drug_id[subj]\n",
    "            edge['data']['Label'] = prop\n",
    "            id_x += 1\n",
    "        else:\n",
    "            node = dict()\n",
    "            node['data'] = dict()\n",
    "            drug_id[subj] = id_x\n",
    "            node['data']['id'] = id_x\n",
    "            node['data']['name'] = subj\n",
    "            node['data']['type'] = entity_type[subj]\n",
    "            edge['data']['id'] = id_x + 1\n",
    "            edge['data']['source'] = id_x\n",
    "            edge['data']['Label'] = prop\n",
    "            graph_json['nodes'].append(node)\n",
    "            id_x += 2\n",
    "        if obj in drug_id.keys():\n",
    "            edge['data']['target'] = drug_id[obj]\n",
    "        else:\n",
    "            node = dict()\n",
    "            node['data'] = dict()\n",
    "            drug_id[obj] = id_x\n",
    "            node['data']['id'] = id_x\n",
    "            node['data']['name'] = obj\n",
    "            node['data']['type'] = entity_type[obj]\n",
    "            edge['data']['target'] = id_x\n",
    "            graph_json['nodes'].append(node)\n",
    "            id_x += 1\n",
    "#             if obj == k:\n",
    "#                 node['classes'] = 'red'  # Single class\n",
    "\n",
    "        graph_json['edges'].append(edge)\n",
    "\n",
    "    return graph_json"
   ]
  },
  {
   "cell_type": "code",
   "execution_count": 4,
   "id": "146ffdad",
   "metadata": {},
   "outputs": [
    {
     "data": {
      "text/html": [
       "<div>\n",
       "<style scoped>\n",
       "    .dataframe tbody tr th:only-of-type {\n",
       "        vertical-align: middle;\n",
       "    }\n",
       "\n",
       "    .dataframe tbody tr th {\n",
       "        vertical-align: top;\n",
       "    }\n",
       "\n",
       "    .dataframe thead th {\n",
       "        text-align: right;\n",
       "    }\n",
       "</style>\n",
       "<table border=\"1\" class=\"dataframe\">\n",
       "  <thead>\n",
       "    <tr style=\"text-align: right;\">\n",
       "      <th></th>\n",
       "      <th>s</th>\n",
       "      <th>p</th>\n",
       "      <th>o</th>\n",
       "    </tr>\n",
       "  </thead>\n",
       "  <tbody>\n",
       "    <tr>\n",
       "      <th>0</th>\n",
       "      <td>http://example/Drug/DB12047</td>\n",
       "      <td>http://example/#part_of</td>\n",
       "      <td>http://example/Treatment/treatment211</td>\n",
       "    </tr>\n",
       "    <tr>\n",
       "      <th>1</th>\n",
       "      <td>http://example/DrugDrugInteraction#treatment10...</td>\n",
       "      <td>http://example/#ddiEffect</td>\n",
       "      <td>http://example/#excretion_decrease</td>\n",
       "    </tr>\n",
       "    <tr>\n",
       "      <th>2</th>\n",
       "      <td>http://example/DrugDrugInteraction#treatment90...</td>\n",
       "      <td>http://example/#ddiEffect</td>\n",
       "      <td>http://example/#serum_concentration_increase</td>\n",
       "    </tr>\n",
       "    <tr>\n",
       "      <th>3</th>\n",
       "      <td>http://example/Treatment/treatment277</td>\n",
       "      <td>http://example/#hasInteraction</td>\n",
       "      <td>http://example/DrugDrugInteraction#treatment27...</td>\n",
       "    </tr>\n",
       "    <tr>\n",
       "      <th>4</th>\n",
       "      <td>http://example/Treatment/treatment321</td>\n",
       "      <td>http://example/#no_belong_to</td>\n",
       "      <td>http://example/#effective</td>\n",
       "    </tr>\n",
       "    <tr>\n",
       "      <th>...</th>\n",
       "      <td>...</td>\n",
       "      <td>...</td>\n",
       "      <td>...</td>\n",
       "    </tr>\n",
       "    <tr>\n",
       "      <th>9738</th>\n",
       "      <td>http://example/DrugDrugInteraction#treatment11...</td>\n",
       "      <td>http://example/#object_drug</td>\n",
       "      <td>http://example/Drug/DB01248</td>\n",
       "    </tr>\n",
       "    <tr>\n",
       "      <th>9739</th>\n",
       "      <td>http://example/DrugDrugInteraction#treatment10...</td>\n",
       "      <td>http://example/#ddiEffect</td>\n",
       "      <td>http://example/#metabolism_increase</td>\n",
       "    </tr>\n",
       "    <tr>\n",
       "      <th>9740</th>\n",
       "      <td>http://example/DrugDrugInteraction#treatment50...</td>\n",
       "      <td>http://example/#ddiEffect</td>\n",
       "      <td>http://example/#serum_concentration_increase</td>\n",
       "    </tr>\n",
       "    <tr>\n",
       "      <th>9741</th>\n",
       "      <td>http://example/DrugDrugInteraction#treatment80...</td>\n",
       "      <td>http://example/#ddiEffect</td>\n",
       "      <td>http://example/#metabolism_increase</td>\n",
       "    </tr>\n",
       "    <tr>\n",
       "      <th>9742</th>\n",
       "      <td>http://example/DrugDrugInteraction#treatment13...</td>\n",
       "      <td>http://example/#precipitant_drug</td>\n",
       "      <td>http://example/Drug/DB00531</td>\n",
       "    </tr>\n",
       "  </tbody>\n",
       "</table>\n",
       "<p>9743 rows × 3 columns</p>\n",
       "</div>"
      ],
      "text/plain": [
       "                                                      s  \\\n",
       "0                           http://example/Drug/DB12047   \n",
       "1     http://example/DrugDrugInteraction#treatment10...   \n",
       "2     http://example/DrugDrugInteraction#treatment90...   \n",
       "3                 http://example/Treatment/treatment277   \n",
       "4                 http://example/Treatment/treatment321   \n",
       "...                                                 ...   \n",
       "9738  http://example/DrugDrugInteraction#treatment11...   \n",
       "9739  http://example/DrugDrugInteraction#treatment10...   \n",
       "9740  http://example/DrugDrugInteraction#treatment50...   \n",
       "9741  http://example/DrugDrugInteraction#treatment80...   \n",
       "9742  http://example/DrugDrugInteraction#treatment13...   \n",
       "\n",
       "                                     p  \\\n",
       "0              http://example/#part_of   \n",
       "1            http://example/#ddiEffect   \n",
       "2            http://example/#ddiEffect   \n",
       "3       http://example/#hasInteraction   \n",
       "4         http://example/#no_belong_to   \n",
       "...                                ...   \n",
       "9738       http://example/#object_drug   \n",
       "9739         http://example/#ddiEffect   \n",
       "9740         http://example/#ddiEffect   \n",
       "9741         http://example/#ddiEffect   \n",
       "9742  http://example/#precipitant_drug   \n",
       "\n",
       "                                                      o  \n",
       "0                 http://example/Treatment/treatment211  \n",
       "1                    http://example/#excretion_decrease  \n",
       "2          http://example/#serum_concentration_increase  \n",
       "3     http://example/DrugDrugInteraction#treatment27...  \n",
       "4                             http://example/#effective  \n",
       "...                                                 ...  \n",
       "9738                        http://example/Drug/DB01248  \n",
       "9739                http://example/#metabolism_increase  \n",
       "9740       http://example/#serum_concentration_increase  \n",
       "9741                http://example/#metabolism_increase  \n",
       "9742                        http://example/Drug/DB00531  \n",
       "\n",
       "[9743 rows x 3 columns]"
      ]
     },
     "execution_count": 4,
     "metadata": {},
     "output_type": "execute_result"
    }
   ],
   "source": [
    "qres = g1.query(get_triples())\n",
    "rdf_graph = sparql_results_to_df(qres)\n",
    "rdf_graph"
   ]
  },
  {
   "cell_type": "code",
   "execution_count": 5,
   "id": "6e9dc621",
   "metadata": {},
   "outputs": [
    {
     "data": {
      "text/html": [
       "<div>\n",
       "<style scoped>\n",
       "    .dataframe tbody tr th:only-of-type {\n",
       "        vertical-align: middle;\n",
       "    }\n",
       "\n",
       "    .dataframe tbody tr th {\n",
       "        vertical-align: top;\n",
       "    }\n",
       "\n",
       "    .dataframe thead th {\n",
       "        text-align: right;\n",
       "    }\n",
       "</style>\n",
       "<table border=\"1\" class=\"dataframe\">\n",
       "  <thead>\n",
       "    <tr style=\"text-align: right;\">\n",
       "      <th></th>\n",
       "      <th>entity</th>\n",
       "      <th>type</th>\n",
       "    </tr>\n",
       "  </thead>\n",
       "  <tbody>\n",
       "  </tbody>\n",
       "</table>\n",
       "</div>"
      ],
      "text/plain": [
       "Empty DataFrame\n",
       "Columns: [entity, type]\n",
       "Index: []"
      ]
     },
     "execution_count": 5,
     "metadata": {},
     "output_type": "execute_result"
    }
   ],
   "source": [
    "qres = g1.query(get_type())\n",
    "entity_type = sparql_results_to_df(qres)\n",
    "entity_type\n"
   ]
  },
  {
   "cell_type": "code",
   "execution_count": null,
   "id": "8120b9ab",
   "metadata": {},
   "outputs": [],
   "source": [
    "entity_type = dict(entity_type.values)\n",
    "entity_type['http://example/#DDI'] = 'concept'\n",
    "entity_type['http://example/#Drug'] = 'concept'\n",
    "entity_type['http://example/#Treatment'] = 'concept'\n",
    "entity_type['http://example/#absorption_decrease'] = 'DDI_effect'\n",
    "entity_type['http://example/#excretion_decrease'] = 'DDI_effect'\n",
    "entity_type['http://example/#excretion_increase'] = 'DDI_effect'\n",
    "entity_type['http://example/#metabolism_decrease'] = 'DDI_effect'\n",
    "entity_type['http://example/#metabolism_increase'] = 'DDI_effect'\n",
    "entity_type['http://example/#serum_concentration_decrease'] = 'DDI_effect'\n",
    "entity_type['http://example/#serum_concentration_increase'] = 'DDI_effect'\n",
    "entity_type['http://example/#effective'] = 'response'\n",
    "entity_type['http://example/#low_effect'] = 'response'"
   ]
  },
  {
   "cell_type": "code",
   "execution_count": null,
   "id": "3a693e75",
   "metadata": {},
   "outputs": [],
   "source": [
    "graph_json = create_json_to_cytoscape(rdf_graph, entity_type)"
   ]
  },
  {
   "cell_type": "code",
   "execution_count": null,
   "id": "98f3bf1e",
   "metadata": {},
   "outputs": [],
   "source": [
    "def create_graph_cytoscape(middle_vertex):\n",
    "    # load a style dictionary\n",
    "    with open(\"styles.json\") as fi:\n",
    "        s = json.load(fi)\n",
    "    # Create the cytoscape graph widget\n",
    "    cytoscapeobj = CytoscapeWidget()\n",
    "    cytoscapeobj.graph.add_graph_from_json(middle_vertex, directed=True, multiple_edges=True)  # , directed=True, input_data['elements']\n",
    "    \n",
    "    cytoscapeobj.set_style(s)\n",
    "    cytoscapeobj.set_layout(name='fcose', animate=True, nodeSpacing = 5)  # concentric,  breadthfirst\n",
    "    return cytoscapeobj"
   ]
  },
  {
   "cell_type": "code",
   "execution_count": null,
   "id": "b9713b24",
   "metadata": {},
   "outputs": [],
   "source": [
    "# from google.colab import output\n",
    "# output.enable_custom_widget_manager()"
   ]
  },
  {
   "cell_type": "code",
   "execution_count": null,
   "id": "adb6dd51",
   "metadata": {},
   "outputs": [],
   "source": [
    "create_graph_cytoscape(graph_json)"
   ]
  },
  {
   "cell_type": "code",
   "execution_count": 10,
   "id": "c43e43aa",
   "metadata": {},
   "outputs": [
    {
     "data": {
      "text/plain": [
       "93"
      ]
     },
     "execution_count": 10,
     "metadata": {},
     "output_type": "execute_result"
    }
   ],
   "source": [
    "import numpy as np\n",
    "\n",
    "#define vectors\n",
    "A = np.array([1, 2, 1,4,5,6])\n",
    "B = np.array([3, 6, 1,4,5,6])\n",
    "  \n",
    "#calculate cross product of vectors A and B\n",
    "np.dot(A, B)"
   ]
  },
  {
   "cell_type": "code",
   "execution_count": 3,
   "id": "13677ae7",
   "metadata": {},
   "outputs": [
    {
     "data": {
      "text/plain": [
       "625.0600000000001"
      ]
     },
     "execution_count": 3,
     "metadata": {},
     "output_type": "execute_result"
    }
   ],
   "source": [
    "35.80+91.80+271.05+26.30+9+19.99+15.12+2.10+1.66+34.0+104.99+11.50+1.75"
   ]
  },
  {
   "cell_type": "code",
   "execution_count": null,
   "id": "d2dc1022",
   "metadata": {},
   "outputs": [],
   "source": []
  }
 ],
 "metadata": {
  "kernelspec": {
   "display_name": "Python 3 (ipykernel)",
   "language": "python",
   "name": "python3"
  },
  "language_info": {
   "codemirror_mode": {
    "name": "ipython",
    "version": 3
   },
   "file_extension": ".py",
   "mimetype": "text/x-python",
   "name": "python",
   "nbconvert_exporter": "python",
   "pygments_lexer": "ipython3",
   "version": "3.9.7"
  }
 },
 "nbformat": 4,
 "nbformat_minor": 5
}
