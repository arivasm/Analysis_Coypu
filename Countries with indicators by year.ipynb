{
 "cells": [
  {
   "cell_type": "code",
   "execution_count": 1,
   "id": "55f50f80",
   "metadata": {},
   "outputs": [],
   "source": [
    "from SPARQLWrapper import SPARQLWrapper, JSON\n",
    "import pandas as pd\n",
    "import numpy as np"
   ]
  },
  {
   "cell_type": "code",
   "execution_count": 2,
   "id": "c837d97c",
   "metadata": {},
   "outputs": [],
   "source": [
    "query = \"\"\"\n",
    "\n",
    "SELECT DISTINCT ?label_country ?label_indicator ?value ?year WHERE {\n",
    "\n",
    "    ?country a <http://worldbank.org/Country> .\n",
    "    ?country <http://www.w3.org/2002/07/owl#sameAs> ?sameAsCountry .\n",
    "    ?country <http://worldbank.org/hasAnnualIndicatorEntry> ?annualIndicator .\n",
    "    ?annualIndicator <http://www.w3.org/2002/07/owl#hasValue> ?value .\n",
    "    ?annualIndicator <http://www.w3.org/2006/time#year> ?year .\n",
    "    ?annualIndicator <http://worldbank.org/hasIndicator> ?indicator .\n",
    "    ?indicator <http://www.w3.org/2000/01/rdf-schema#label> ?label_indicator .\n",
    "    ?country <http://www.w3.org/2000/01/rdf-schema#label> ?label_country .\n",
    "    \n",
    "    FILTER(?indicator in (<http://worldbank.org/Indicator/NY.GDP.MKTP.CD>,\n",
    "    <http://worldbank.org/Indicator/NE.DAB.TOTL.CD>, <http://worldbank.org/Indicator/NY.GDP.PCAP.CN>,\n",
    "    <http://worldbank.org/Indicator/SI.POV.GINI>, <http://worldbank.org/Indicator/NV.IND.TOTL.ZS>,\n",
    "    <http://worldbank.org/Indicator/EN.ATM.CO2E.PC>, <http://worldbank.org/Indicator/SH.STA.BASS.ZS>,\n",
    "    <http://worldbank.org/Indicator/SH.STA.DIAB.ZS>, <http://worldbank.org/Indicator/SH.TBS.INCD>,\n",
    "    <http://worldbank.org/Indicator/SP.DYN.LE00.IN>, <http://worldbank.org/Indicator/SP.POP.GROW>,\n",
    "    <http://worldbank.org/Indicator/SH.HIV.INCD.TL.P3>, <http://worldbank.org/Indicator/SH.MED.BEDS.ZS>,\n",
    "    <http://worldbank.org/Indicator/SH.PRG.ANEM>, <http://worldbank.org/Indicator/SH.PRV.SMOK>,\n",
    "    <http://worldbank.org/Indicator/SH.STA.BASS.ZS>)\n",
    "    AND (?year=2019))\n",
    "\n",
    "}\n",
    "\"\"\""
   ]
  },
  {
   "cell_type": "code",
   "execution_count": 3,
   "id": "573a3a12",
   "metadata": {},
   "outputs": [],
   "source": [
    "def convert_to_category(world_bank, indicator, lower):\n",
    "    labels = ['low', 'mediumLow', 'medium', 'mediumHigh', 'high']\n",
    "    if lower:\n",
    "        labels.reverse()\n",
    "    df = world_bank.loc[world_bank.indicator==indicator]\n",
    "    df[\"value\"] = pd.to_numeric(df[\"value\"], downcast=\"float\")\n",
    "    df = df.sort_values(by='value')  # , ascending=boolean\n",
    "    a = list(df['value'].values)\n",
    "    n_split = np.array_split(a, 5)\n",
    "    category = pd.cut(df.value, bins=[min(n_split[0])-1, max(n_split[0]), max(n_split[1]), max(n_split[2]),\n",
    "                                      max(n_split[3]), max(n_split[4])], labels=labels)\n",
    "    df.insert(3, 'category_indicator',category)\n",
    "    df.drop(columns='value', inplace=True)\n",
    "    return df"
   ]
  },
  {
   "cell_type": "code",
   "execution_count": 4,
   "id": "83df47e7",
   "metadata": {},
   "outputs": [
    {
     "data": {
      "text/plain": [
       "(2328, 3)"
      ]
     },
     "metadata": {},
     "output_type": "display_data"
    },
    {
     "data": {
      "text/html": [
       "<div>\n",
       "<style scoped>\n",
       "    .dataframe tbody tr th:only-of-type {\n",
       "        vertical-align: middle;\n",
       "    }\n",
       "\n",
       "    .dataframe tbody tr th {\n",
       "        vertical-align: top;\n",
       "    }\n",
       "\n",
       "    .dataframe thead th {\n",
       "        text-align: right;\n",
       "    }\n",
       "</style>\n",
       "<table border=\"1\" class=\"dataframe\">\n",
       "  <thead>\n",
       "    <tr style=\"text-align: right;\">\n",
       "      <th></th>\n",
       "      <th>country</th>\n",
       "      <th>indicator</th>\n",
       "      <th>value</th>\n",
       "    </tr>\n",
       "  </thead>\n",
       "  <tbody>\n",
       "    <tr>\n",
       "      <th>0</th>\n",
       "      <td>Malawi</td>\n",
       "      <td>GDP (current US$)</td>\n",
       "      <td>1.10254e+10</td>\n",
       "    </tr>\n",
       "    <tr>\n",
       "      <th>2</th>\n",
       "      <td>Malawi</td>\n",
       "      <td>Industry (including construction) value added ...</td>\n",
       "      <td>18.5355</td>\n",
       "    </tr>\n",
       "  </tbody>\n",
       "</table>\n",
       "</div>"
      ],
      "text/plain": [
       "  country                                          indicator        value\n",
       "0  Malawi                                  GDP (current US$)  1.10254e+10\n",
       "2  Malawi  Industry (including construction) value added ...      18.5355"
      ]
     },
     "metadata": {},
     "output_type": "display_data"
    }
   ],
   "source": [
    "sparql = SPARQLWrapper(\"https://labs.tib.eu/sdm/worldbank_endpoint/sparql\")\n",
    "world_bank = []\n",
    "\n",
    "sparql.setQuery(query)\n",
    "sparql.setReturnFormat(JSON)\n",
    "results = sparql.query().convert()\n",
    "\n",
    "\n",
    "for r in results['results']['bindings']:\n",
    "    row = {'country': r['label_country']['value'].replace(',', ''),\n",
    "           'indicator': r['label_indicator']['value'].replace(',', ''),\n",
    "           'value': r['value']['value']}\n",
    "    \n",
    "    world_bank.append(row)\n",
    "\n",
    "world_bank = pd.DataFrame.from_dict(world_bank)\n",
    "world_bank = world_bank.drop_duplicates()\n",
    "display(world_bank.shape, world_bank.head(2))"
   ]
  },
  {
   "cell_type": "code",
   "execution_count": 5,
   "id": "cc9bf3f5",
   "metadata": {},
   "outputs": [
    {
     "data": {
      "text/plain": [
       "['GDP (current US$)',\n",
       " 'Industry (including construction) value added (% of GDP)',\n",
       " 'GDP per capita (current LCU)',\n",
       " 'Gross national expenditure (current US$)',\n",
       " 'Prevalence of current tobacco use (% of adults)',\n",
       " 'Incidence of tuberculosis (per 100000 people)',\n",
       " 'Prevalence of anemia among pregnant women (%)',\n",
       " 'Life expectancy at birth total (years)',\n",
       " 'People using at least basic sanitation services (% of population)',\n",
       " 'Population growth (annual %)',\n",
       " 'Incidence of HIV all (per 1000 uninfected population)',\n",
       " 'Gini index',\n",
       " 'CO2 emissions (metric tons per capita)',\n",
       " 'Hospital beds (per 1000 people)']"
      ]
     },
     "execution_count": 5,
     "metadata": {},
     "output_type": "execute_result"
    }
   ],
   "source": [
    "world_bank.indicator.unique().tolist()"
   ]
  },
  {
   "cell_type": "code",
   "execution_count": 6,
   "id": "530c72ee",
   "metadata": {},
   "outputs": [
    {
     "data": {
      "text/plain": [
       "215"
      ]
     },
     "execution_count": 6,
     "metadata": {},
     "output_type": "execute_result"
    }
   ],
   "source": [
    "len(world_bank.country.unique())"
   ]
  },
  {
   "cell_type": "code",
   "execution_count": 7,
   "id": "6621c8d4",
   "metadata": {},
   "outputs": [
    {
     "name": "stderr",
     "output_type": "stream",
     "text": [
      "/tmp/ipykernel_19821/4058174006.py:6: SettingWithCopyWarning: \n",
      "A value is trying to be set on a copy of a slice from a DataFrame.\n",
      "Try using .loc[row_indexer,col_indexer] = value instead\n",
      "\n",
      "See the caveats in the documentation: https://pandas.pydata.org/pandas-docs/stable/user_guide/indexing.html#returning-a-view-versus-a-copy\n",
      "  df[\"value\"] = pd.to_numeric(df[\"value\"], downcast=\"float\")\n"
     ]
    },
    {
     "data": {
      "text/html": [
       "<div>\n",
       "<style scoped>\n",
       "    .dataframe tbody tr th:only-of-type {\n",
       "        vertical-align: middle;\n",
       "    }\n",
       "\n",
       "    .dataframe tbody tr th {\n",
       "        vertical-align: top;\n",
       "    }\n",
       "\n",
       "    .dataframe thead th {\n",
       "        text-align: right;\n",
       "    }\n",
       "</style>\n",
       "<table border=\"1\" class=\"dataframe\">\n",
       "  <thead>\n",
       "    <tr style=\"text-align: right;\">\n",
       "      <th></th>\n",
       "      <th>country</th>\n",
       "      <th>indicator</th>\n",
       "      <th>category_indicator</th>\n",
       "    </tr>\n",
       "  </thead>\n",
       "  <tbody>\n",
       "    <tr>\n",
       "      <th>436</th>\n",
       "      <td>Tuvalu</td>\n",
       "      <td>GDP (current US$)</td>\n",
       "      <td>low</td>\n",
       "    </tr>\n",
       "    <tr>\n",
       "      <th>86</th>\n",
       "      <td>Nauru</td>\n",
       "      <td>GDP (current US$)</td>\n",
       "      <td>low</td>\n",
       "    </tr>\n",
       "    <tr>\n",
       "      <th>1684</th>\n",
       "      <td>Kiribati</td>\n",
       "      <td>GDP (current US$)</td>\n",
       "      <td>low</td>\n",
       "    </tr>\n",
       "    <tr>\n",
       "      <th>1846</th>\n",
       "      <td>Marshall Islands</td>\n",
       "      <td>GDP (current US$)</td>\n",
       "      <td>low</td>\n",
       "    </tr>\n",
       "    <tr>\n",
       "      <th>141</th>\n",
       "      <td>Palau</td>\n",
       "      <td>GDP (current US$)</td>\n",
       "      <td>low</td>\n",
       "    </tr>\n",
       "    <tr>\n",
       "      <th>...</th>\n",
       "      <td>...</td>\n",
       "      <td>...</td>\n",
       "      <td>...</td>\n",
       "    </tr>\n",
       "    <tr>\n",
       "      <th>4330</th>\n",
       "      <td>New Zealand</td>\n",
       "      <td>Hospital beds (per 1000 people)</td>\n",
       "      <td>mediumLow</td>\n",
       "    </tr>\n",
       "    <tr>\n",
       "      <th>3331</th>\n",
       "      <td>Denmark</td>\n",
       "      <td>Hospital beds (per 1000 people)</td>\n",
       "      <td>medium</td>\n",
       "    </tr>\n",
       "    <tr>\n",
       "      <th>3734</th>\n",
       "      <td>Iceland</td>\n",
       "      <td>Hospital beds (per 1000 people)</td>\n",
       "      <td>medium</td>\n",
       "    </tr>\n",
       "    <tr>\n",
       "      <th>3989</th>\n",
       "      <td>Luxembourg</td>\n",
       "      <td>Hospital beds (per 1000 people)</td>\n",
       "      <td>mediumHigh</td>\n",
       "    </tr>\n",
       "    <tr>\n",
       "      <th>2943</th>\n",
       "      <td>Belgium</td>\n",
       "      <td>Hospital beds (per 1000 people)</td>\n",
       "      <td>high</td>\n",
       "    </tr>\n",
       "  </tbody>\n",
       "</table>\n",
       "<p>2328 rows × 3 columns</p>\n",
       "</div>"
      ],
      "text/plain": [
       "               country                        indicator category_indicator\n",
       "436             Tuvalu                GDP (current US$)                low\n",
       "86               Nauru                GDP (current US$)                low\n",
       "1684          Kiribati                GDP (current US$)                low\n",
       "1846  Marshall Islands                GDP (current US$)                low\n",
       "141              Palau                GDP (current US$)                low\n",
       "...                ...                              ...                ...\n",
       "4330       New Zealand  Hospital beds (per 1000 people)          mediumLow\n",
       "3331           Denmark  Hospital beds (per 1000 people)             medium\n",
       "3734           Iceland  Hospital beds (per 1000 people)             medium\n",
       "3989        Luxembourg  Hospital beds (per 1000 people)         mediumHigh\n",
       "2943           Belgium  Hospital beds (per 1000 people)               high\n",
       "\n",
       "[2328 rows x 3 columns]"
      ]
     },
     "execution_count": 7,
     "metadata": {},
     "output_type": "execute_result"
    }
   ],
   "source": [
    "country_ind = pd.DataFrame()\n",
    "for indicator in world_bank.indicator.unique().tolist():\n",
    "    lower = False\n",
    "    if indicator in ['CO2 emissions (metric tons per capita)', 'Incidence of tuberculosis (per 100000 people)',\n",
    "                    'Prevalence of anemia among pregnant women (%)',\n",
    "                     'Incidence of HIV all (per 1000 uninfected population)',\n",
    "                     'Prevalence of current tobacco use (% of adults)']:\n",
    "        lower = True\n",
    "    country_ind = pd.concat([country_ind, convert_to_category(world_bank, indicator, lower)])\n",
    "\n",
    "country_ind"
   ]
  },
  {
   "cell_type": "code",
   "execution_count": 8,
   "id": "7834ccc6",
   "metadata": {},
   "outputs": [
    {
     "data": {
      "text/plain": [
       "(2328, 3)"
      ]
     },
     "execution_count": 8,
     "metadata": {},
     "output_type": "execute_result"
    }
   ],
   "source": [
    "country_ind = country_ind.drop_duplicates()\n",
    "country_ind.shape"
   ]
  },
  {
   "cell_type": "code",
   "execution_count": 9,
   "id": "ea31fcce",
   "metadata": {},
   "outputs": [],
   "source": [
    "country_ind.to_csv('dataset/country_ind.csv', index=None)"
   ]
  },
  {
   "cell_type": "code",
   "execution_count": null,
   "id": "65a101e2",
   "metadata": {},
   "outputs": [],
   "source": []
  }
 ],
 "metadata": {
  "kernelspec": {
   "display_name": "Python 3 (ipykernel)",
   "language": "python",
   "name": "python3"
  },
  "language_info": {
   "codemirror_mode": {
    "name": "ipython",
    "version": 3
   },
   "file_extension": ".py",
   "mimetype": "text/x-python",
   "name": "python",
   "nbconvert_exporter": "python",
   "pygments_lexer": "ipython3",
   "version": "3.8.13"
  }
 },
 "nbformat": 4,
 "nbformat_minor": 5
}
