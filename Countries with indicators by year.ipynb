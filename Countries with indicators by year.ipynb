{
 "cells": [
  {
   "cell_type": "code",
   "execution_count": 1,
   "id": "55f50f80",
   "metadata": {},
   "outputs": [],
   "source": [
    "from SPARQLWrapper import SPARQLWrapper, JSON\n",
    "import pandas as pd\n",
    "import Utility"
   ]
  },
  {
   "cell_type": "markdown",
   "id": "13003826",
   "metadata": {},
   "source": [
    "### Public endpoint of Worldbank"
   ]
  },
  {
   "cell_type": "code",
   "execution_count": null,
   "id": "0b1637c5",
   "metadata": {},
   "outputs": [],
   "source": [
    "sparql = SPARQLWrapper(\"https://labs.tib.eu/sdm/worldbank_endpoint/sparql\")"
   ]
  },
  {
   "cell_type": "markdown",
   "id": "4408a85d",
   "metadata": {},
   "source": [
    "### Query to retrive values of a set of indicators by contry in a specific year"
   ]
  },
  {
   "cell_type": "code",
   "execution_count": 2,
   "id": "c837d97c",
   "metadata": {},
   "outputs": [],
   "source": [
    "query = \"\"\"\n",
    "\n",
    "SELECT DISTINCT ?label_country ?label_indicator ?value ?year WHERE {\n",
    "\n",
    "    ?country a <http://worldbank.org/Country> .\n",
    "    ?country <http://www.w3.org/2002/07/owl#sameAs> ?sameAsCountry .\n",
    "    ?country <http://worldbank.org/hasAnnualIndicatorEntry> ?annualIndicator .\n",
    "    ?annualIndicator <http://www.w3.org/2002/07/owl#hasValue> ?value .\n",
    "    ?annualIndicator <http://www.w3.org/2006/time#year> ?year .\n",
    "    ?annualIndicator <http://worldbank.org/hasIndicator> ?indicator .\n",
    "    ?indicator <http://www.w3.org/2000/01/rdf-schema#label> ?label_indicator .\n",
    "    ?country <http://www.w3.org/2000/01/rdf-schema#label> ?label_country .\n",
    "    \n",
    "    FILTER(?indicator in (<http://worldbank.org/Indicator/NY.GDP.MKTP.CD>,\n",
    "    <http://worldbank.org/Indicator/NE.DAB.TOTL.CD>, <http://worldbank.org/Indicator/NY.GDP.PCAP.CN>,\n",
    "    <http://worldbank.org/Indicator/SI.POV.GINI>, <http://worldbank.org/Indicator/NV.IND.TOTL.ZS>,\n",
    "    <http://worldbank.org/Indicator/EN.ATM.CO2E.PC>, <http://worldbank.org/Indicator/SH.STA.BASS.ZS>,\n",
    "    <http://worldbank.org/Indicator/SH.STA.DIAB.ZS>, <http://worldbank.org/Indicator/SH.TBS.INCD>,\n",
    "    <http://worldbank.org/Indicator/SP.DYN.LE00.IN>, <http://worldbank.org/Indicator/SP.POP.GROW>,\n",
    "    <http://worldbank.org/Indicator/SH.HIV.INCD.TL.P3>, <http://worldbank.org/Indicator/SH.MED.BEDS.ZS>,\n",
    "    <http://worldbank.org/Indicator/SH.PRG.ANEM>, <http://worldbank.org/Indicator/SH.PRV.SMOK>,\n",
    "    <http://worldbank.org/Indicator/SH.STA.BASS.ZS>)\n",
    "    AND (?year=2019))\n",
    "\n",
    "}\n",
    "\"\"\""
   ]
  },
  {
   "cell_type": "markdown",
   "id": "3363bf99",
   "metadata": {},
   "source": [
    "### Execute the query and store data into a pandas Dataframe"
   ]
  },
  {
   "cell_type": "code",
   "execution_count": 3,
   "id": "83df47e7",
   "metadata": {},
   "outputs": [
    {
     "data": {
      "text/plain": [
       "(2328, 3)"
      ]
     },
     "metadata": {},
     "output_type": "display_data"
    },
    {
     "data": {
      "text/html": [
       "<div>\n",
       "<style scoped>\n",
       "    .dataframe tbody tr th:only-of-type {\n",
       "        vertical-align: middle;\n",
       "    }\n",
       "\n",
       "    .dataframe tbody tr th {\n",
       "        vertical-align: top;\n",
       "    }\n",
       "\n",
       "    .dataframe thead th {\n",
       "        text-align: right;\n",
       "    }\n",
       "</style>\n",
       "<table border=\"1\" class=\"dataframe\">\n",
       "  <thead>\n",
       "    <tr style=\"text-align: right;\">\n",
       "      <th></th>\n",
       "      <th>country</th>\n",
       "      <th>indicator</th>\n",
       "      <th>value</th>\n",
       "    </tr>\n",
       "  </thead>\n",
       "  <tbody>\n",
       "    <tr>\n",
       "      <th>0</th>\n",
       "      <td>Pakistan</td>\n",
       "      <td>People using at least basic sanitation service...</td>\n",
       "      <td>66.5799</td>\n",
       "    </tr>\n",
       "    <tr>\n",
       "      <th>1</th>\n",
       "      <td>Pakistan</td>\n",
       "      <td>Incidence of tuberculosis (per 100000 people)</td>\n",
       "      <td>263.0</td>\n",
       "    </tr>\n",
       "  </tbody>\n",
       "</table>\n",
       "</div>"
      ],
      "text/plain": [
       "    country                                          indicator    value\n",
       "0  Pakistan  People using at least basic sanitation service...  66.5799\n",
       "1  Pakistan      Incidence of tuberculosis (per 100000 people)    263.0"
      ]
     },
     "metadata": {},
     "output_type": "display_data"
    }
   ],
   "source": [
    "world_bank = []\n",
    "\n",
    "sparql.setQuery(query)\n",
    "sparql.setReturnFormat(JSON)\n",
    "results = sparql.query().convert()\n",
    "\n",
    "\n",
    "for r in results['results']['bindings']:\n",
    "    row = {'country': r['label_country']['value'].replace(',', ''),\n",
    "           'indicator': r['label_indicator']['value'].replace(',', ''),\n",
    "           'value': r['value']['value']}\n",
    "    \n",
    "    world_bank.append(row)\n",
    "\n",
    "world_bank = pd.DataFrame.from_dict(world_bank)\n",
    "world_bank = world_bank.drop_duplicates()\n",
    "display(world_bank.shape, world_bank.head(2))"
   ]
  },
  {
   "cell_type": "code",
   "execution_count": 4,
   "id": "cc9bf3f5",
   "metadata": {},
   "outputs": [
    {
     "data": {
      "text/plain": [
       "['People using at least basic sanitation services (% of population)',\n",
       " 'Incidence of tuberculosis (per 100000 people)',\n",
       " 'Life expectancy at birth total (years)',\n",
       " 'Incidence of HIV all (per 1000 uninfected population)',\n",
       " 'Population growth (annual %)',\n",
       " 'Prevalence of anemia among pregnant women (%)',\n",
       " 'Prevalence of current tobacco use (% of adults)',\n",
       " 'CO2 emissions (metric tons per capita)',\n",
       " 'Gross national expenditure (current US$)',\n",
       " 'GDP (current US$)',\n",
       " 'Industry (including construction) value added (% of GDP)',\n",
       " 'GDP per capita (current LCU)',\n",
       " 'Gini index',\n",
       " 'Hospital beds (per 1000 people)']"
      ]
     },
     "execution_count": 4,
     "metadata": {},
     "output_type": "execute_result"
    }
   ],
   "source": [
    "world_bank.indicator.unique().tolist()"
   ]
  },
  {
   "cell_type": "code",
   "execution_count": 5,
   "id": "530c72ee",
   "metadata": {},
   "outputs": [
    {
     "data": {
      "text/plain": [
       "215"
      ]
     },
     "execution_count": 5,
     "metadata": {},
     "output_type": "execute_result"
    }
   ],
   "source": [
    "len(world_bank.country.unique())"
   ]
  },
  {
   "cell_type": "markdown",
   "id": "4254a218",
   "metadata": {},
   "source": [
    "## Convert the indicator values into five categories"
   ]
  },
  {
   "cell_type": "markdown",
   "id": "09af118d",
   "metadata": {},
   "source": [
    "#### categories: 'low', 'mediumLow', 'medium', 'mediumHigh', 'high'.  (Higher is better)\n"
   ]
  },
  {
   "cell_type": "code",
   "execution_count": 6,
   "id": "6621c8d4",
   "metadata": {},
   "outputs": [
    {
     "name": "stderr",
     "output_type": "stream",
     "text": [
      "C:\\Users\\rivasa\\GitHub\\Coypu\\FederateQuery\\Utility.py:10: SettingWithCopyWarning: \n",
      "A value is trying to be set on a copy of a slice from a DataFrame.\n",
      "Try using .loc[row_indexer,col_indexer] = value instead\n",
      "\n",
      "See the caveats in the documentation: https://pandas.pydata.org/pandas-docs/stable/user_guide/indexing.html#returning-a-view-versus-a-copy\n",
      "  df[\"value\"] = pd.to_numeric(df[\"value\"], downcast=\"float\")\n"
     ]
    },
    {
     "data": {
      "text/html": [
       "<div>\n",
       "<style scoped>\n",
       "    .dataframe tbody tr th:only-of-type {\n",
       "        vertical-align: middle;\n",
       "    }\n",
       "\n",
       "    .dataframe tbody tr th {\n",
       "        vertical-align: top;\n",
       "    }\n",
       "\n",
       "    .dataframe thead th {\n",
       "        text-align: right;\n",
       "    }\n",
       "</style>\n",
       "<table border=\"1\" class=\"dataframe\">\n",
       "  <thead>\n",
       "    <tr style=\"text-align: right;\">\n",
       "      <th></th>\n",
       "      <th>country</th>\n",
       "      <th>indicator</th>\n",
       "      <th>category_indicator</th>\n",
       "    </tr>\n",
       "  </thead>\n",
       "  <tbody>\n",
       "    <tr>\n",
       "      <th>1754</th>\n",
       "      <td>Ethiopia</td>\n",
       "      <td>People using at least basic sanitation service...</td>\n",
       "      <td>low</td>\n",
       "    </tr>\n",
       "    <tr>\n",
       "      <th>5074</th>\n",
       "      <td>Chad</td>\n",
       "      <td>People using at least basic sanitation service...</td>\n",
       "      <td>low</td>\n",
       "    </tr>\n",
       "    <tr>\n",
       "      <th>3364</th>\n",
       "      <td>Madagascar</td>\n",
       "      <td>People using at least basic sanitation service...</td>\n",
       "      <td>low</td>\n",
       "    </tr>\n",
       "    <tr>\n",
       "      <th>3851</th>\n",
       "      <td>Niger</td>\n",
       "      <td>People using at least basic sanitation service...</td>\n",
       "      <td>low</td>\n",
       "    </tr>\n",
       "    <tr>\n",
       "      <th>920</th>\n",
       "      <td>Central African Republic</td>\n",
       "      <td>People using at least basic sanitation service...</td>\n",
       "      <td>low</td>\n",
       "    </tr>\n",
       "    <tr>\n",
       "      <th>...</th>\n",
       "      <td>...</td>\n",
       "      <td>...</td>\n",
       "      <td>...</td>\n",
       "    </tr>\n",
       "    <tr>\n",
       "      <th>4059</th>\n",
       "      <td>New Zealand</td>\n",
       "      <td>Hospital beds (per 1000 people)</td>\n",
       "      <td>mediumLow</td>\n",
       "    </tr>\n",
       "    <tr>\n",
       "      <th>1518</th>\n",
       "      <td>Denmark</td>\n",
       "      <td>Hospital beds (per 1000 people)</td>\n",
       "      <td>medium</td>\n",
       "    </tr>\n",
       "    <tr>\n",
       "      <th>2564</th>\n",
       "      <td>Iceland</td>\n",
       "      <td>Hospital beds (per 1000 people)</td>\n",
       "      <td>medium</td>\n",
       "    </tr>\n",
       "    <tr>\n",
       "      <th>3200</th>\n",
       "      <td>Luxembourg</td>\n",
       "      <td>Hospital beds (per 1000 people)</td>\n",
       "      <td>mediumHigh</td>\n",
       "    </tr>\n",
       "    <tr>\n",
       "      <th>409</th>\n",
       "      <td>Belgium</td>\n",
       "      <td>Hospital beds (per 1000 people)</td>\n",
       "      <td>high</td>\n",
       "    </tr>\n",
       "  </tbody>\n",
       "</table>\n",
       "<p>2328 rows × 3 columns</p>\n",
       "</div>"
      ],
      "text/plain": [
       "                       country  \\\n",
       "1754                  Ethiopia   \n",
       "5074                      Chad   \n",
       "3364                Madagascar   \n",
       "3851                     Niger   \n",
       "920   Central African Republic   \n",
       "...                        ...   \n",
       "4059               New Zealand   \n",
       "1518                   Denmark   \n",
       "2564                   Iceland   \n",
       "3200                Luxembourg   \n",
       "409                    Belgium   \n",
       "\n",
       "                                              indicator category_indicator  \n",
       "1754  People using at least basic sanitation service...                low  \n",
       "5074  People using at least basic sanitation service...                low  \n",
       "3364  People using at least basic sanitation service...                low  \n",
       "3851  People using at least basic sanitation service...                low  \n",
       "920   People using at least basic sanitation service...                low  \n",
       "...                                                 ...                ...  \n",
       "4059                    Hospital beds (per 1000 people)          mediumLow  \n",
       "1518                    Hospital beds (per 1000 people)             medium  \n",
       "2564                    Hospital beds (per 1000 people)             medium  \n",
       "3200                    Hospital beds (per 1000 people)         mediumHigh  \n",
       "409                     Hospital beds (per 1000 people)               high  \n",
       "\n",
       "[2328 rows x 3 columns]"
      ]
     },
     "execution_count": 6,
     "metadata": {},
     "output_type": "execute_result"
    }
   ],
   "source": [
    "country_ind = pd.DataFrame()\n",
    "for indicator in world_bank.indicator.unique().tolist():\n",
    "    lower = False\n",
    "    if indicator in ['CO2 emissions (metric tons per capita)', 'Incidence of tuberculosis (per 100000 people)',\n",
    "                    'Prevalence of anemia among pregnant women (%)',\n",
    "                     'Incidence of HIV all (per 1000 uninfected population)',\n",
    "                     'Prevalence of current tobacco use (% of adults)']:\n",
    "        lower = True\n",
    "    country_ind = pd.concat([country_ind, Utility.convert_to_category(world_bank, indicator, lower)])\n",
    "\n",
    "country_ind"
   ]
  },
  {
   "cell_type": "code",
   "execution_count": 7,
   "id": "7834ccc6",
   "metadata": {},
   "outputs": [
    {
     "data": {
      "text/plain": [
       "(2328, 3)"
      ]
     },
     "execution_count": 7,
     "metadata": {},
     "output_type": "execute_result"
    }
   ],
   "source": [
    "country_ind = country_ind.drop_duplicates()\n",
    "country_ind.shape"
   ]
  },
  {
   "cell_type": "code",
   "execution_count": 9,
   "id": "ea31fcce",
   "metadata": {},
   "outputs": [],
   "source": [
    "country_ind.to_csv('dataset/country_ind.csv', index=None)"
   ]
  },
  {
   "cell_type": "code",
   "execution_count": null,
   "id": "65a101e2",
   "metadata": {},
   "outputs": [],
   "source": []
  }
 ],
 "metadata": {
  "kernelspec": {
   "display_name": "Python 3 (ipykernel)",
   "language": "python",
   "name": "python3"
  },
  "language_info": {
   "codemirror_mode": {
    "name": "ipython",
    "version": 3
   },
   "file_extension": ".py",
   "mimetype": "text/x-python",
   "name": "python",
   "nbconvert_exporter": "python",
   "pygments_lexer": "ipython3",
   "version": "3.9.7"
  }
 },
 "nbformat": 4,
 "nbformat_minor": 5
}
