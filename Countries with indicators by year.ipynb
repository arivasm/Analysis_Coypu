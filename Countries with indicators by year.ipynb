{
 "cells": [
  {
   "cell_type": "code",
   "execution_count": 1,
   "id": "55f50f80",
   "metadata": {},
   "outputs": [],
   "source": [
    "from SPARQLWrapper import SPARQLWrapper, JSON\n",
    "import pandas as pd\n",
    "import numpy as np"
   ]
  },
  {
   "cell_type": "code",
   "execution_count": 2,
   "id": "3273869d",
   "metadata": {},
   "outputs": [],
   "source": [
    "query = \"\"\"\n",
    "PREFIX wdt: <http://www.wikidata.org/prop/direct/>\n",
    "PREFIX wd: <http://www.wikidata.org/entity/>\n",
    "PREFIX rdf: <http://www.w3.org/1999/02/22-rdf-syntax-ns#>\n",
    "\n",
    "SELECT DISTINCT ?country ?indicator ?value ?year WHERE {\n",
    "\n",
    "    ?country a <http://worldbank.org/Country> .\n",
    "    ?country <http://worldbank.org/hasAnnualIndicatorEntry> ?annualIndicator .\n",
    "    ?annualIndicator <http://www.w3.org/2002/07/owl#hasValue> ?value .\n",
    "    ?annualIndicator <http://www.w3.org/2006/time#year> ?year .\n",
    "    ?annualIndicator <http://worldbank.org/hasIndicator> ?indicator .\n",
    "    \n",
    "    FILTER(?indicator in (<http://worldbank.org/Indicator/NY.GDP.MKTP.CD>,\n",
    "    <http://worldbank.org/Indicator/NE.DAB.TOTL.CD>, <http://worldbank.org/Indicator/NY.GDP.PCAP.CN>,\n",
    "    <http://worldbank.org/Indicator/SI.POV.GINI>, <http://worldbank.org/Indicator/NV.IND.TOTL.ZS>,\n",
    "    <http://worldbank.org/Indicator/EN.ATM.CO2E.PC>) AND (?year=2019))\n",
    "\n",
    "}\n",
    "\"\"\""
   ]
  },
  {
   "cell_type": "code",
   "execution_count": 3,
   "id": "d76abc71",
   "metadata": {},
   "outputs": [],
   "source": [
    "def convert_to_category(world_bank, indicator):\n",
    "    df = world_bank.loc[world_bank.indicator==indicator]\n",
    "    df[\"value\"] = pd.to_numeric(df[\"value\"], downcast=\"float\")\n",
    "    df = df.sort_values(by='value')  #, ascending=False\n",
    "    a = list(df['value'].values)\n",
    "    n_split = np.array_split(a, 5)\n",
    "    category = pd.cut(df.value, bins=[min(n_split[0])-1, max(n_split[0]), max(n_split[1]), max(n_split[2]),\n",
    "                                      max(n_split[3]), max(n_split[4])],\n",
    "                      labels=['low', 'mediumLow', 'medium', 'mediumHigh', 'high'])\n",
    "    df.insert(3, 'category_indicator',category)\n",
    "    df.drop(columns='value', inplace=True)\n",
    "    return df"
   ]
  },
  {
   "cell_type": "code",
   "execution_count": 4,
   "id": "10fff61f",
   "metadata": {},
   "outputs": [
    {
     "data": {
      "text/plain": [
       "(1218, 3)"
      ]
     },
     "metadata": {},
     "output_type": "display_data"
    },
    {
     "data": {
      "text/html": [
       "<div>\n",
       "<style scoped>\n",
       "    .dataframe tbody tr th:only-of-type {\n",
       "        vertical-align: middle;\n",
       "    }\n",
       "\n",
       "    .dataframe tbody tr th {\n",
       "        vertical-align: top;\n",
       "    }\n",
       "\n",
       "    .dataframe thead th {\n",
       "        text-align: right;\n",
       "    }\n",
       "</style>\n",
       "<table border=\"1\" class=\"dataframe\">\n",
       "  <thead>\n",
       "    <tr style=\"text-align: right;\">\n",
       "      <th></th>\n",
       "      <th>country</th>\n",
       "      <th>indicator</th>\n",
       "      <th>value</th>\n",
       "    </tr>\n",
       "  </thead>\n",
       "  <tbody>\n",
       "    <tr>\n",
       "      <th>0</th>\n",
       "      <td>MWI</td>\n",
       "      <td>NY.GDP.MKTP.CD</td>\n",
       "      <td>1.10254e+10</td>\n",
       "    </tr>\n",
       "    <tr>\n",
       "      <th>1</th>\n",
       "      <td>MWI</td>\n",
       "      <td>NV.IND.TOTL.ZS</td>\n",
       "      <td>18.5355</td>\n",
       "    </tr>\n",
       "  </tbody>\n",
       "</table>\n",
       "</div>"
      ],
      "text/plain": [
       "  country       indicator        value\n",
       "0     MWI  NY.GDP.MKTP.CD  1.10254e+10\n",
       "1     MWI  NV.IND.TOTL.ZS      18.5355"
      ]
     },
     "metadata": {},
     "output_type": "display_data"
    }
   ],
   "source": [
    "sparql = SPARQLWrapper(\"https://labs.tib.eu/sdm/worldbank_endpoint/sparql\")\n",
    "world_bank = []\n",
    "\n",
    "sparql.setQuery(query)\n",
    "sparql.setReturnFormat(JSON)\n",
    "results = sparql.query().convert()\n",
    "\n",
    "\n",
    "for r in results['results']['bindings']:\n",
    "    row = {'country': r['country']['value'].replace('http://worldbank.org/Country/', ''),\n",
    "           'indicator': r['indicator']['value'].replace('http://worldbank.org/Indicator/', ''),\n",
    "           'value': r['value']['value']}\n",
    "    \n",
    "    world_bank.append(row)\n",
    "\n",
    "world_bank = pd.DataFrame.from_dict(world_bank)\n",
    "display(world_bank.shape, world_bank.head(2))"
   ]
  },
  {
   "cell_type": "code",
   "execution_count": 5,
   "id": "3e54878f",
   "metadata": {},
   "outputs": [
    {
     "name": "stderr",
     "output_type": "stream",
     "text": [
      "/tmp/ipykernel_13050/3703610989.py:3: SettingWithCopyWarning: \n",
      "A value is trying to be set on a copy of a slice from a DataFrame.\n",
      "Try using .loc[row_indexer,col_indexer] = value instead\n",
      "\n",
      "See the caveats in the documentation: https://pandas.pydata.org/pandas-docs/stable/user_guide/indexing.html#returning-a-view-versus-a-copy\n",
      "  df[\"value\"] = pd.to_numeric(df[\"value\"], downcast=\"float\")\n"
     ]
    },
    {
     "data": {
      "text/html": [
       "<div>\n",
       "<style scoped>\n",
       "    .dataframe tbody tr th:only-of-type {\n",
       "        vertical-align: middle;\n",
       "    }\n",
       "\n",
       "    .dataframe tbody tr th {\n",
       "        vertical-align: top;\n",
       "    }\n",
       "\n",
       "    .dataframe thead th {\n",
       "        text-align: right;\n",
       "    }\n",
       "</style>\n",
       "<table border=\"1\" class=\"dataframe\">\n",
       "  <thead>\n",
       "    <tr style=\"text-align: right;\">\n",
       "      <th></th>\n",
       "      <th>country</th>\n",
       "      <th>indicator</th>\n",
       "      <th>category_indicator</th>\n",
       "    </tr>\n",
       "  </thead>\n",
       "  <tbody>\n",
       "    <tr>\n",
       "      <th>266</th>\n",
       "      <td>TUV</td>\n",
       "      <td>NY.GDP.MKTP.CD</td>\n",
       "      <td>low</td>\n",
       "    </tr>\n",
       "    <tr>\n",
       "      <th>46</th>\n",
       "      <td>NRU</td>\n",
       "      <td>NY.GDP.MKTP.CD</td>\n",
       "      <td>low</td>\n",
       "    </tr>\n",
       "    <tr>\n",
       "      <th>728</th>\n",
       "      <td>KIR</td>\n",
       "      <td>NY.GDP.MKTP.CD</td>\n",
       "      <td>low</td>\n",
       "    </tr>\n",
       "    <tr>\n",
       "      <th>833</th>\n",
       "      <td>MHL</td>\n",
       "      <td>NY.GDP.MKTP.CD</td>\n",
       "      <td>low</td>\n",
       "    </tr>\n",
       "    <tr>\n",
       "      <th>79</th>\n",
       "      <td>PLW</td>\n",
       "      <td>NY.GDP.MKTP.CD</td>\n",
       "      <td>low</td>\n",
       "    </tr>\n",
       "    <tr>\n",
       "      <th>...</th>\n",
       "      <td>...</td>\n",
       "      <td>...</td>\n",
       "      <td>...</td>\n",
       "    </tr>\n",
       "    <tr>\n",
       "      <th>1004</th>\n",
       "      <td>BRN</td>\n",
       "      <td>EN.ATM.CO2E.PC</td>\n",
       "      <td>high</td>\n",
       "    </tr>\n",
       "    <tr>\n",
       "      <th>981</th>\n",
       "      <td>ARE</td>\n",
       "      <td>EN.ATM.CO2E.PC</td>\n",
       "      <td>high</td>\n",
       "    </tr>\n",
       "    <tr>\n",
       "      <th>999</th>\n",
       "      <td>BHR</td>\n",
       "      <td>EN.ATM.CO2E.PC</td>\n",
       "      <td>high</td>\n",
       "    </tr>\n",
       "    <tr>\n",
       "      <th>1098</th>\n",
       "      <td>KWT</td>\n",
       "      <td>EN.ATM.CO2E.PC</td>\n",
       "      <td>high</td>\n",
       "    </tr>\n",
       "    <tr>\n",
       "      <th>1155</th>\n",
       "      <td>QAT</td>\n",
       "      <td>EN.ATM.CO2E.PC</td>\n",
       "      <td>high</td>\n",
       "    </tr>\n",
       "  </tbody>\n",
       "</table>\n",
       "<p>1218 rows × 3 columns</p>\n",
       "</div>"
      ],
      "text/plain": [
       "     country       indicator category_indicator\n",
       "266      TUV  NY.GDP.MKTP.CD                low\n",
       "46       NRU  NY.GDP.MKTP.CD                low\n",
       "728      KIR  NY.GDP.MKTP.CD                low\n",
       "833      MHL  NY.GDP.MKTP.CD                low\n",
       "79       PLW  NY.GDP.MKTP.CD                low\n",
       "...      ...             ...                ...\n",
       "1004     BRN  EN.ATM.CO2E.PC               high\n",
       "981      ARE  EN.ATM.CO2E.PC               high\n",
       "999      BHR  EN.ATM.CO2E.PC               high\n",
       "1098     KWT  EN.ATM.CO2E.PC               high\n",
       "1155     QAT  EN.ATM.CO2E.PC               high\n",
       "\n",
       "[1218 rows x 3 columns]"
      ]
     },
     "execution_count": 5,
     "metadata": {},
     "output_type": "execute_result"
    }
   ],
   "source": [
    "country_ind = pd.DataFrame()\n",
    "for indicator in ['NY.GDP.MKTP.CD', 'NE.DAB.TOTL.CD', 'NY.GDP.PCAP.CN',\n",
    "                  'SI.POV.GINI', 'NV.IND.TOTL.ZS', 'EN.ATM.CO2E.PC']:\n",
    "    country_ind = pd.concat([country_ind, convert_to_category(world_bank, indicator)])\n",
    "\n",
    "country_ind"
   ]
  },
  {
   "cell_type": "code",
   "execution_count": 6,
   "id": "08c833eb",
   "metadata": {},
   "outputs": [
    {
     "data": {
      "text/plain": [
       "(1218, 3)"
      ]
     },
     "execution_count": 6,
     "metadata": {},
     "output_type": "execute_result"
    }
   ],
   "source": [
    "country_ind = country_ind.drop_duplicates()\n",
    "country_ind.shape"
   ]
  },
  {
   "cell_type": "code",
   "execution_count": 7,
   "id": "df6d90f7",
   "metadata": {},
   "outputs": [],
   "source": [
    "country_ind.to_csv('dataset/country_ind.csv', index=None)"
   ]
  },
  {
   "cell_type": "code",
   "execution_count": null,
   "id": "9743f28b",
   "metadata": {},
   "outputs": [],
   "source": []
  }
 ],
 "metadata": {
  "kernelspec": {
   "display_name": "Python 3 (ipykernel)",
   "language": "python",
   "name": "python3"
  },
  "language_info": {
   "codemirror_mode": {
    "name": "ipython",
    "version": 3
   },
   "file_extension": ".py",
   "mimetype": "text/x-python",
   "name": "python",
   "nbconvert_exporter": "python",
   "pygments_lexer": "ipython3",
   "version": "3.8.13"
  }
 },
 "nbformat": 4,
 "nbformat_minor": 5
}
