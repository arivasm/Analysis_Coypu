{
 "cells": [
  {
   "cell_type": "code",
   "execution_count": 1,
   "id": "92577ea6",
   "metadata": {},
   "outputs": [],
   "source": [
    "from SPARQLWrapper import SPARQLWrapper, JSON\n",
    "import pandas as pd"
   ]
  },
  {
   "cell_type": "code",
   "execution_count": null,
   "id": "c288f68b",
   "metadata": {},
   "outputs": [],
   "source": []
  },
  {
   "cell_type": "code",
   "execution_count": 25,
   "id": "b0475573",
   "metadata": {},
   "outputs": [],
   "source": [
    "query = \"\"\"\n",
    "select distinct ?country ?income ?region ?annualIndicator \n",
    "                ?topic ?year ?countryName ?indicator ?value\n",
    "                ?label ?identifier ?publisher  ?note ?topic2\n",
    "    where {\n",
    "    ?country a <http://worldbank.org/Country> .\n",
    "    ?country <http://dbpedia.org/ontology/income> ?income .\n",
    "    ?country <http://dbpedia.org/ontology/region> ?region .\n",
    "    ?country <http://worldbank.org/hasAnnualIndicatorEntry> ?annualIndicator .\n",
    "    ?annualIndicator <http://worldbank.org/hasTopic> ?topic .\n",
    "    ?annualIndicator <http://www.w3.org/2006/time#year> ?year .\n",
    "    ?annualIndicator <http://worldbank.org/hasCountry> ?countryName .\n",
    "    ?annualIndicator <http://worldbank.org/hasIndicator> ?indicator .\n",
    "    ?annualIndicator <http://www.w3.org/2002/07/owl#hasValue> ?value .\n",
    "    ?indicator <http://www.w3.org/2000/01/rdf-schema#label> ?label .\n",
    "    ?indicator <http://purl.org/dc/elements/1.1/identifier> ?identifier .\n",
    "    ?indicator <http://purl.org/dc/terms/publisher> ?publisher .\n",
    "    ?indicator <http://www.w3.org/2004/02/skos/core#note> ?note .\n",
    "    ?indicator <http://worldbank.org/hasTopic> ?topic2 .\n",
    "\n",
    "    }\n",
    "\n",
    "#LIMIT 10\n",
    "\"\"\""
   ]
  },
  {
   "cell_type": "code",
   "execution_count": 26,
   "id": "1152d406",
   "metadata": {},
   "outputs": [
    {
     "name": "stdout",
     "output_type": "stream",
     "text": [
      "\n",
      "select distinct ?country ?income ?region ?annualIndicator \n",
      "                ?topic ?year ?countryName ?indicator ?value\n",
      "                ?label ?identifier ?publisher  ?note ?topic2\n",
      "    where {\n",
      "    ?country a <http://worldbank.org/Country> .\n",
      "    ?country <http://dbpedia.org/ontology/income> ?income .\n",
      "    ?country <http://dbpedia.org/ontology/region> ?region .\n",
      "    ?country <http://worldbank.org/hasAnnualIndicatorEntry> ?annualIndicator .\n",
      "    ?annualIndicator <http://worldbank.org/hasTopic> ?topic .\n",
      "    ?annualIndicator <http://www.w3.org/2006/time#year> ?year .\n",
      "    ?annualIndicator <http://worldbank.org/hasCountry> ?countryName .\n",
      "    ?annualIndicator <http://worldbank.org/hasIndicator> ?indicator .\n",
      "    ?annualIndicator <http://www.w3.org/2002/07/owl#hasValue> ?value .\n",
      "    ?indicator <http://www.w3.org/2000/01/rdf-schema#label> ?label .\n",
      "    ?indicator <http://purl.org/dc/elements/1.1/identifier> ?identifier .\n",
      "    ?indicator <http://purl.org/dc/terms/publisher> ?publisher .\n",
      "    ?indicator <http://www.w3.org/2004/02/skos/core#note> ?note .\n",
      "    ?indicator <http://worldbank.org/hasTopic> ?topic2 .\n",
      "\n",
      "    }\n",
      "\n",
      "#LIMIT 10\n",
      "\n"
     ]
    }
   ],
   "source": [
    "sparql = SPARQLWrapper(\"https://labs.tib.eu/sdm/worldbank_endpoint/sparql\")\n",
    "world_bank = []\n",
    "\n",
    "print(query)\n",
    "sparql.setQuery(query)\n",
    "sparql.setReturnFormat(JSON)\n",
    "results = sparql.query().convert()\n",
    "\n",
    "\n",
    "for r in results['results']['bindings']:\n",
    "    row = {'country': r['country']['value'], 'income': r['income']['value'], 'region': r['region']['value'],\n",
    "           'annualIndicator': r['annualIndicator']['value'], 'topic': r['topic']['value'], 'year': int(r['year']['value']),\n",
    "          'countryName': r['countryName']['value'], 'indicator': r['indicator']['value'], 'value': float(r['value']['value']),\n",
    "          'label': r['label']['value'], 'identifier': r['identifier']['value'], 'publisher': r['publisher']['value'],\n",
    "          'note': r['note']['value'], 'topic2': r['topic2']['value']}\n",
    "#     print(row, str(r['o']['value']))\n",
    "    world_bank.append(row)\n"
   ]
  },
  {
   "cell_type": "code",
   "execution_count": 30,
   "id": "d7cd551b",
   "metadata": {},
   "outputs": [
    {
     "data": {
      "text/plain": [
       "{'country': 'http://worldbank.org/Country/CMR',\n",
       " 'income': 'Lower middle income',\n",
       " 'region': 'Sub-Saharan Africa',\n",
       " 'annualIndicator': 'http://worldbank.org/trade/Country/CMR/Indicator/TX.VAL.MRCH.R2.ZS/Year/1995',\n",
       " 'topic': 'http://worldbank.org/trade',\n",
       " 'year': 1995,\n",
       " 'countryName': 'http://worldbank.org/Country/CMR',\n",
       " 'indicator': 'http://worldbank.org/Indicator/TX.VAL.MRCH.R2.ZS',\n",
       " 'value': 0.396353,\n",
       " 'label': 'Merchandise exports to low- and middle-income economies in Europe & Central Asia (% of total merchandise exports)',\n",
       " 'identifier': 'TX.VAL.MRCH.R2.ZS',\n",
       " 'publisher': \"World Bank staff estimates based data from International Monetary Fund\\\\'s Direction of Trade database.\",\n",
       " 'note': 'Merchandise exports to low- and middle-income economies in Europe and Central Asia are the sum of merchandise exports from the reporting economy to low- and middle-income economies in the Europe and Central Asia region according to World Bank classification of economies. Data are as a percentage of total merchandise exports by the economy. Data are computed only if at least half of the economies in the partner country group had non-missing data.',\n",
       " 'topic2': 'http://worldbank.org/trade'}"
      ]
     },
     "execution_count": 30,
     "metadata": {},
     "output_type": "execute_result"
    }
   ],
   "source": [
    "(world_bank[999999])"
   ]
  },
  {
   "cell_type": "code",
   "execution_count": null,
   "id": "d6520585",
   "metadata": {},
   "outputs": [],
   "source": [
    "query = \"\"\"\n",
    "select  ?country ?year count(distinct ?indicator)\n",
    "where {\n",
    "?country a <http://worldbank.org/Country> .\n",
    "?country <http://worldbank.org/hasAnnualIndicatorEntry> ?annualIndicator .\n",
    "?annualIndicator <http://www.w3.org/2006/time#year> ?year .\n",
    "#?annualIndicator <http://www.w3.org/2002/07/owl#sameAs> ?sameAs .\n",
    "?annualIndicator <http://worldbank.org/hasIndicator> ?indicator .\n",
    "#?annualIndicator <http://worldbank.org/hasIndicator> <http://worldbank.org/Indicator/DT.ODA.ODAT.CD>\n",
    "\n",
    "} \n",
    "GROUP BY  ?country ?year\n",
    "ORDER BY desc (?country)\n",
    "\n",
    "\"\"\""
   ]
  },
  {
   "cell_type": "code",
   "execution_count": null,
   "id": "a0f311b8",
   "metadata": {},
   "outputs": [],
   "source": [
    "PREFIX ps: <https://w3id.org/payswarm#>\n",
    "PREFIX dbp: <http://dbpedia.org/property/>\n",
    "PREFIX owl: <http://www.w3.org/2002/07/owl#>\n",
    "PREFIX wdt: <http://www.wikidata.org/prop/direct/>\n",
    "PREFIX wd: <http://www.wikidata.org/entity/>\n",
    "PREFIX rdf: <http://www.w3.org/1999/02/22-rdf-syntax-ns#>\n",
    "PREFIX wdno: <http://www.wikidata.org/prop/novalue/>\n",
    "PREFIX p: <http://www.wikidata.org/prop/>\n",
    "PREFIX pq: <http://www.wikidata.org/prop/qualifier/>\n",
    "PREFIX pqv: <http://www.wikidata.org/prop/qualifier/value/>\n",
    "PREFIX wikibase: <http://wikiba.se/ontology#>\n",
    "PREFIX rdfs: <http://www.w3.org/2000/01/rdf-schema#>\n",
    "\n",
    "\n",
    "SELECT DISTINCT ?label  WHERE {\n",
    "  SERVICE <https://labs.tib.eu/sdm/worldbank_endpoint/sparql> {\n",
    "    ?country a <http://worldbank.org/Country> .\n",
    "\t\t?country <http://www.w3.org/2002/07/owl#sameAs> ?sameAsCountry .\n",
    "\n",
    "  }\n",
    "  SERVICE <https://query.wikidata.org/sparql> {\n",
    "    ?sameAsCountry p:P2250 ?life_expectancy .\n",
    "    ?life_expectancy pqv:P585 ?year .\n",
    "    ?year wikibase:timeValue ?data .\n",
    "\t\t?life_expectancy pq:P518 ?gender .    \n",
    "    ?gender rdfs:label ?label .\n",
    "    filter( (?label='female') || (?label='male'))\n",
    "    \n",
    "      }\n",
    "\t}\n"
   ]
  }
 ],
 "metadata": {
  "kernelspec": {
   "display_name": "Python 3 (ipykernel)",
   "language": "python",
   "name": "python3"
  },
  "language_info": {
   "codemirror_mode": {
    "name": "ipython",
    "version": 3
   },
   "file_extension": ".py",
   "mimetype": "text/x-python",
   "name": "python",
   "nbconvert_exporter": "python",
   "pygments_lexer": "ipython3",
   "version": "3.8.13"
  }
 },
 "nbformat": 4,
 "nbformat_minor": 5
}
